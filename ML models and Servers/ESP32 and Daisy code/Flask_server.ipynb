{
 "cells": [
  {
   "cell_type": "code",
<<<<<<< Updated upstream:ML models and Servers/ESP32 and Daisy code/Flask_server.ipynb
   "execution_count": 2,
=======
   "execution_count": 1,
>>>>>>> Stashed changes:ML models and Servers/Server data/Flask_server.ipynb
   "metadata": {},
   "outputs": [
    {
     "name": "stdout",
     "output_type": "stream",
     "text": [
      " * Serving Flask app '__main__'\n",
      " * Debug mode: off\n"
     ]
    },
    {
     "name": "stderr",
     "output_type": "stream",
     "text": [
      "WARNING: This is a development server. Do not use it in a production deployment. Use a production WSGI server instead.\n",
      " * Running on all addresses (0.0.0.0)\n",
      " * Running on http://127.0.0.1:8080\n",
<<<<<<< Updated upstream:ML models and Servers/ESP32 and Daisy code/Flask_server.ipynb
      " * Running on http://192.168.0.101:8080\n",
      "Press CTRL+C to quit\n"
     ]
    },
    {
     "name": "stderr",
     "output_type": "stream",
     "text": [
      "192.168.0.101 - - [19/Jan/2024 11:57:40] \"POST /esp32 HTTP/1.1\" 200 -\n",
      "192.168.0.101 - - [19/Jan/2024 11:57:45] \"POST /esp32 HTTP/1.1\" 200 -\n",
      "192.168.0.101 - - [19/Jan/2024 11:57:48] \"POST /esp32 HTTP/1.1\" 200 -\n",
      "192.168.0.101 - - [19/Jan/2024 11:57:50] \"POST /esp32 HTTP/1.1\" 200 -\n",
      "192.168.0.101 - - [19/Jan/2024 11:57:52] \"POST /esp32 HTTP/1.1\" 200 -\n",
      "192.168.0.101 - - [19/Jan/2024 12:01:03] \"POST /esp32 HTTP/1.1\" 200 -\n",
      "192.168.0.101 - - [19/Jan/2024 12:01:04] \"POST /esp32 HTTP/1.1\" 200 -\n",
      "192.168.0.101 - - [19/Jan/2024 12:01:06] \"POST /esp32 HTTP/1.1\" 200 -\n",
      "192.168.0.101 - - [19/Jan/2024 12:01:06] \"POST /esp32 HTTP/1.1\" 200 -\n",
      "192.168.0.101 - - [19/Jan/2024 12:01:07] \"POST /esp32 HTTP/1.1\" 200 -\n"
=======
      " * Running on http://192.168.4.57:8080\n",
      "Press CTRL+C to quit\n",
      "127.0.0.1 - - [21/Jan/2024 19:11:55] \"POST /esp32 HTTP/1.1\" 500 -\n",
      "127.0.0.1 - - [21/Jan/2024 19:12:25] \"POST /esp32 HTTP/1.1\" 500 -\n",
      "127.0.0.1 - - [21/Jan/2024 19:12:41] \"POST /esp32 HTTP/1.1\" 500 -\n",
      "127.0.0.1 - - [21/Jan/2024 19:12:47] \"POST /esp32 HTTP/1.1\" 500 -\n",
      "127.0.0.1 - - [21/Jan/2024 19:13:14] \"POST /esp32 HTTP/1.1\" 500 -\n"
>>>>>>> Stashed changes:ML models and Servers/Server data/Flask_server.ipynb
     ]
    }
   ],
   "source": [
    "from flask import Flask, request, jsonify\n",
    "import urllib.parse\n",
    "# import pandas as pandas\n",
    "import requests\n",
    "# Load the saved random forest model for texture: wood\n",
    "# loaded_model = joblib.load('wood_RF_model.joblib')\n",
    "\n",
    "#collison flag\n",
    "collisionOnflag = False\n",
    "\n",
    "app = Flask(__name__)\n",
    "\n",
<<<<<<< Updated upstream:ML models and Servers/ESP32 and Daisy code/Flask_server.ipynb
    "# 192.168.4.96 -- home\n",
    "# 192.168.0.100 -- gemlab\n",
    "ESP32_SERVER_URL = 'http://192.168.0.100:80/receive_message'\n",
=======
    "# 192.168.115.91 -- hotspot\n",
    "# 192.168.4.98 -- home\n",
    "ESP32_SERVER_URL = 'http://192.168.4.98:80/receive_message'\n",
>>>>>>> Stashed changes:ML models and Servers/Server data/Flask_server.ipynb
    "\n",
    "@app.route('/')\n",
    "def index():\n",
    "    return jsonify({'message': 'Welcome to the FLASK server!'})\n",
    "\n",
    "\n",
    "@app.route('/collisonRegister', methods=['POST'])\n",
    "def collisonRegister():\n",
    "    global collisionOnflag\n",
    "    try:\n",
    "        collisionStatus = request.json.get('CollisionStatus')  \n",
    "        textureName = request.json.get('TextureName')\n",
    "        \n",
    "        if collisionStatus is None:\n",
    "            return jsonify({'Status': '400', 'Error': 'No data received'})\n",
    "        \n",
    "        elif collisionStatus not in ['ON', 'OFF']:\n",
    "            return jsonify({'Status': '400', 'Error': 'Invalid CollisionStatus'})\n",
    "        \n",
    "        elif collisionStatus == \"ON\" and collisionOnflag == False:\n",
    "            if textureName is None or textureName.strip() == '':\n",
    "                return jsonify({'Status': '400', 'Error': 'Texture name is empty or null'})\n",
    "            else:\n",
    "                #start to listen input for the cane velocity\n",
    "                #for each velocity input from the cane, use the current texture in use to call the prediction model\n",
    "                #return the predicted DFT321 waveform value\n",
    "                collisionOnflag = True\n",
    "                return jsonify({'Status': '200', 'Message': 'CollisionStatus is ON'})\n",
    "        elif collisionStatus == \"OFF\" and collisionOnflag == True:  \n",
    "            #collisionStatus is 'OFF'\n",
    "            #stop listening to the cane input\n",
    "            collisionOnflag = False\n",
    "            return jsonify({'Status': '200', 'Message': 'CollisionStatus is OFF'})\n",
    "        else:\n",
    "            return jsonify({'Status': '400', 'Message': 'CollisionStatus is ALREADY ON'})\n",
    "    \n",
    "    except Exception as e:\n",
    "        return jsonify({'Status': '500', 'Error': str(e)} )\n",
    "    \n",
    "# @app.route('/predict', methods=['POST'])\n",
    "# def predict():\n",
    "#     global collisionOnflag\n",
    "#     if collisionOnflag == True:\n",
    "#         try:\n",
    "#                 data = request.get_json()\n",
    "#                 # Convert JSON data to a Python dictionary\n",
    "#                 vector_data = {\n",
    "#                     'VELO-X': data.get('x'),\n",
    "#                     'VELO-Y': data.get('y'),\n",
    "#                     'VELO-Z': data.get('z')\n",
    "#                 }\n",
    "\n",
    "#                 x_input_df = pd.DataFrame([vector_data])\n",
    "#                 # y_pred = loaded_model.predict(x_input_df)\n",
    "\n",
    "#                 # return jsonify({'Status': '200', 'Message': str(y_pred)})\n",
    "#         except Exception as e:\n",
    "#                 return jsonify({'Status': '500', 'Error': str(e)}) \n",
    "#     else:\n",
    "#         return jsonify({'Status': '400', 'Error': 'Collision flag is not set to true'}) \n",
    "\n",
    "\n",
    "@app.route('/esp32', methods=['POST'])\n",
    "def manual_message():\n",
    "    \n",
    "    try:\n",
    "        json_data = request.get_json()\n",
    "\n",
    "        if json_data:\n",
    "            # Convert JSON data to x-www-form-urlencoded format\n",
    "            form_data = urllib.parse.urlencode(json_data)\n",
    "\n",
    "            # Forward the data to the ESP32 server\n",
    "            response = requests.post(ESP32_SERVER_URL, data=form_data, headers={'Content-Type': 'application/x-www-form-urlencoded'})\n",
    "        \n",
    "            # Check the response from the ESP32 server\n",
    "            response.raise_for_status()  # Raises an HTTPError if the HTTP request returned an unsuccessful status code\n",
    "\n",
    "            return {'status': 'success', 'message': 'Message forwarded to ESP32 server'}\n",
    "        else:\n",
    "            return {'status': 'error', 'message': 'Invalid JSON data in the request'}, 400\n",
    "    except requests.exceptions.RequestException as e:\n",
    "        # Handle any exceptions related to the HTTP request\n",
    "        return {'status': 'error', 'message': f'Error forwarding message to ESP32 server: {str(e)}'}, 500\n",
    "    except Exception as e:\n",
    "        # Handle any other unexpected exceptions\n",
    "        return {'status': 'error', 'message': f'Unexpected error: {str(e)}'}, 500\n",
    "\n",
    "\n",
    "\n",
    "if __name__ == '__main__':\n",
    "    # app.run(host='0.0.0.0', port=8080)\n",
    "    app.run(host = '0.0.0.0', port = '8080')\n",
    "\n"
   ]
  }
 ],
 "metadata": {
  "kernelspec": {
   "display_name": "Python 3",
   "language": "python",
   "name": "python3"
  },
  "language_info": {
   "codemirror_mode": {
    "name": "ipython",
    "version": 3
   },
   "file_extension": ".py",
   "mimetype": "text/x-python",
   "name": "python",
   "nbconvert_exporter": "python",
   "pygments_lexer": "ipython3",
   "version": "3.11.7"
  }
 },
 "nbformat": 4,
 "nbformat_minor": 2
}
