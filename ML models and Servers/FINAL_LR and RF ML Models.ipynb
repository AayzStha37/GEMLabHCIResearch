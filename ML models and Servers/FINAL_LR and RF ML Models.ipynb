{
 "cells": [
  {
   "cell_type": "code",
   "execution_count": 1,
   "metadata": {},
   "outputs": [
    {
     "data": {
      "text/plain": [
       "['wood_RF_model.joblib']"
      ]
     },
     "execution_count": 1,
     "metadata": {},
     "output_type": "execute_result"
    }
   ],
   "source": [
    "import pandas as pd\n",
    "from sklearn.model_selection import train_test_split\n",
    "from sklearn.linear_model import LinearRegression\n",
    "from sklearn.ensemble import RandomForestRegressor\n",
    "from sklearn.compose import ColumnTransformer\n",
    "from sklearn.preprocessing import OneHotEncoder\n",
    "from sklearn.metrics import mean_squared_error, r2_score\n",
    "import matplotlib.pyplot as plt\n",
    "import numpy as np\n",
    "import joblib\n",
    "\n",
    "# Load the dataset\n",
    "url = 'https://raw.githubusercontent.com/AayzStha37/GEMLabHCIResearch/main/Unity%20based%20texture%20CSVs/MOD%20Wooden%20Floor_extracted_values_with_DFT321_without_duplicates.csv'\n",
    "df = pd.read_csv(url)\n",
    "\n",
    "# Separate features and target variable\n",
    "y = df['DFT321']\n",
    "x = df.drop('DFT321', axis=1)\n",
    "\n",
    "# Identify categorical columns\n",
    "# categorical_cols = ['TEXTURE']  # Assuming 'TEXTURE' is the categorical column\n",
    "\n",
    "# Split the data into training and testing sets\n",
    "x_train, x_test, y_train, y_test = train_test_split(x, y, test_size=0.2, random_state=100)\n",
    "\n",
    "# # Preprocessing categorical columns using One-Hot Encoding\n",
    "# preprocessor = ColumnTransformer(\n",
    "#     transformers=[('cat', OneHotEncoder(), categorical_cols)],\n",
    "#     remainder='passthrough'\n",
    "# )\n",
    "\n",
    "# x_train_processed = preprocessor.fit_transform(x_train)\n",
    "# x_test_processed = preprocessor.transform(x_test)\n",
    "\n",
    "# Training the Linear Regression model\n",
    "lr = LinearRegression()\n",
    "lr.fit(x_train, y_train)\n",
    "joblib.dump(lr,'wood_LR_model.joblib')\n",
    "\n",
    "# Training the Random Forest model\n",
    "rf = RandomForestRegressor(max_depth=32, random_state=42)\n",
    "rf.fit(x_train,y_train)\n",
    "joblib.dump(rf,'wood_RF_model.joblib')"
   ]
  },
  {
   "cell_type": "code",
   "execution_count": null,
   "metadata": {},
   "outputs": [],
   "source": [
    "## MODEL PERFOEMANCE VISUALIZATION\n",
    "\n",
    "# Performance Model Comparision\n",
    "df_models = pd.concat([lr_results, rf_results],axis=0).reset_index(drop=True)\n",
    "df_models\n",
    "\n",
    "plt.figure(figsize=(5,5))\n",
    "plt.scatter(x=y_train, y=y_rf_train_pred,alpha =0.3)\n",
    "\n",
    "z= np.polyfit(y_test, y_lr_test_pred,1)\n",
    "p =np.poly1d(z)\n",
    "\n",
    "plt.plot(y_train,p(y_train),'#f8766d')\n",
    "plt.ylabel('Predicted DFT321')\n",
    "plt.xlabel('Experimental DFT321')"
   ]
  },
  {
   "cell_type": "code",
   "execution_count": 58,
   "metadata": {},
   "outputs": [
    {
     "data": {
      "text/html": [
       "<div>\n",
       "<style scoped>\n",
       "    .dataframe tbody tr th:only-of-type {\n",
       "        vertical-align: middle;\n",
       "    }\n",
       "\n",
       "    .dataframe tbody tr th {\n",
       "        vertical-align: top;\n",
       "    }\n",
       "\n",
       "    .dataframe thead th {\n",
       "        text-align: right;\n",
       "    }\n",
       "</style>\n",
       "<table border=\"1\" class=\"dataframe\">\n",
       "  <thead>\n",
       "    <tr style=\"text-align: right;\">\n",
       "      <th></th>\n",
       "      <th>Method</th>\n",
       "      <th>Training MSE</th>\n",
       "      <th>Training R2</th>\n",
       "      <th>Test MSE</th>\n",
       "      <th>TEST_R2</th>\n",
       "    </tr>\n",
       "  </thead>\n",
       "  <tbody>\n",
       "    <tr>\n",
       "      <th>0</th>\n",
       "      <td>Random Forest</td>\n",
       "      <td>397.506729</td>\n",
       "      <td>0.01172</td>\n",
       "      <td>416.340325</td>\n",
       "      <td>0.000092</td>\n",
       "    </tr>\n",
       "  </tbody>\n",
       "</table>\n",
       "</div>"
      ],
      "text/plain": [
       "          Method Training MSE Training R2    Test MSE   TEST_R2\n",
       "0  Random Forest   397.506729     0.01172  416.340325  0.000092"
      ]
     },
     "execution_count": 58,
     "metadata": {},
     "output_type": "execute_result"
    }
   ],
   "source": [
    "##LINEAR REGRESSION\n",
    "# Apply the model to make a predition\n",
    "y_rf_train_pred = rf.predict(x_train)\n",
    "y_rf_test_pred = rf.predict(x_test)\n",
    "\n",
    "# Evaluating model performance\n",
    "rf_train_mse = mean_squared_error(y_train, y_rf_train_pred)\n",
    "rf_train_r2 = r2_score(y_train, y_rf_train_pred)\n",
    "\n",
    "rf_test_mse = mean_squared_error(y_test, y_rf_test_pred)\n",
    "rf_test_r2 = r2_score(y_test, y_rf_test_pred)\n",
    "\n",
    "rf_results = pd.DataFrame(['Random Forest', rf_train_mse,rf_train_r2,rf_test_mse,rf_test_r2]).transpose()\n",
    "rf_results.columns = ['Method','Training MSE', 'Training R2', 'Test MSE', 'TEST_R2']\n",
    "rf_results"
   ]
  },
  {
   "cell_type": "code",
   "execution_count": 59,
   "metadata": {},
   "outputs": [
    {
     "data": {
      "text/html": [
       "<div>\n",
       "<style scoped>\n",
       "    .dataframe tbody tr th:only-of-type {\n",
       "        vertical-align: middle;\n",
       "    }\n",
       "\n",
       "    .dataframe tbody tr th {\n",
       "        vertical-align: top;\n",
       "    }\n",
       "\n",
       "    .dataframe thead th {\n",
       "        text-align: right;\n",
       "    }\n",
       "</style>\n",
       "<table border=\"1\" class=\"dataframe\">\n",
       "  <thead>\n",
       "    <tr style=\"text-align: right;\">\n",
       "      <th></th>\n",
       "      <th>Method</th>\n",
       "      <th>Training MSE</th>\n",
       "      <th>Training R2</th>\n",
       "      <th>Test MSE</th>\n",
       "      <th>TEST_R2</th>\n",
       "    </tr>\n",
       "  </thead>\n",
       "  <tbody>\n",
       "    <tr>\n",
       "      <th>0</th>\n",
       "      <td>Linear Regression</td>\n",
       "      <td>402.056963</td>\n",
       "      <td>0.000407</td>\n",
       "      <td>415.967955</td>\n",
       "      <td>0.000987</td>\n",
       "    </tr>\n",
       "  </tbody>\n",
       "</table>\n",
       "</div>"
      ],
      "text/plain": [
       "              Method Training MSE Training R2    Test MSE   TEST_R2\n",
       "0  Linear Regression   402.056963    0.000407  415.967955  0.000987"
      ]
     },
     "execution_count": 59,
     "metadata": {},
     "output_type": "execute_result"
    }
   ],
   "source": [
    "##RANDOM FOREST\n",
    "# Apply the model to make a predition\n",
    "y_lr_train_pred = lr.predict(x_train)\n",
    "y_lr_test_pred = lr.predict(x_test)\n",
    "\n",
    "# Evaluating model performance\n",
    "lr_train_mse = mean_squared_error(y_train, y_lr_train_pred)\n",
    "lr_train_r2 = r2_score(y_train, y_lr_train_pred)\n",
    "\n",
    "lr_test_mse = mean_squared_error(y_test, y_lr_test_pred)\n",
    "lr_test_r2 = r2_score(y_test, y_lr_test_pred)\n",
    "\n",
    "lr_results = pd.DataFrame(['Linear Regression', lr_train_mse,lr_train_r2,lr_test_mse,lr_test_r2]).transpose()\n",
    "lr_results.columns = ['Method','Training MSE', 'Training R2', 'Test MSE', 'TEST_R2']\n",
    "lr_results"
   ]
  }
 ],
 "metadata": {
  "kernelspec": {
   "display_name": "Python 3",
   "language": "python",
   "name": "python3"
  },
  "language_info": {
   "codemirror_mode": {
    "name": "ipython",
    "version": 3
   },
   "file_extension": ".py",
   "mimetype": "text/x-python",
   "name": "python",
   "nbconvert_exporter": "python",
   "pygments_lexer": "ipython3",
   "version": "3.11.7"
  }
 },
 "nbformat": 4,
 "nbformat_minor": 2
}
